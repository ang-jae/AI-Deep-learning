{
 "cells": [
  {
   "cell_type": "markdown",
   "metadata": {},
   "source": [
    "# 실전 문제 해결 (과적합)"
   ]
  },
  {
   "cell_type": "code",
   "execution_count": 1,
   "metadata": {},
   "outputs": [],
   "source": [
    "import tensorflow as tf\n",
    "import numpy as np"
   ]
  },
  {
   "cell_type": "markdown",
   "metadata": {},
   "source": [
    "## 하이퍼 파라미터"
   ]
  },
  {
   "cell_type": "code",
   "execution_count": 2,
   "metadata": {},
   "outputs": [],
   "source": [
    "EPOCHS = 100"
   ]
  },
  {
   "cell_type": "markdown",
   "metadata": {},
   "source": [
    "## 모델 정의"
   ]
  },
  {
   "cell_type": "code",
   "execution_count": 4,
   "metadata": {},
   "outputs": [],
   "source": [
    "class ConvLNReluBlock(tf.keras.Model):\n",
    "    def __init__(self, filters, kernel_size):\n",
    "        super(ConvBNReluBlock, self).__init__()\n",
    "        self.conv = tf.keras.layers.Conv2D(filters, kernel_size, padding='same', use_bias=False)\n",
    "        self.ln = tf.keras.layers.LayerNormalization()\n",
    "        \n",
    "    def call(self, x, training=False, mask=None):\n",
    "        x = self.conv(x)\n",
    "        x = self.ln(x)\n",
    "        return tf.nn.relu(x)\n",
    "    \n",
    "\n",
    "# Define network architecture\n",
    "class MyModel(tf.keras.Model):\n",
    "    def __init__(self):\n",
    "        super(MyModel, self).__init__()\n",
    "        self.conv1_1 = tf.keras.layers.Conv2D(16, (3, 3), padding='same', activation='relu')\n",
    "        self.conv1_2 = tf.keras.layers.Conv2D(16, (3, 3), padding='same', activation='relu')\n",
    "        self.pool1 = tf.keras.layers.MaxPool2D((2, 2))\n",
    "\n",
    "        self.conv2_1 = tf.keras.layers.Conv2D(32, (3, 3), padding='same', activation='relu')\n",
    "        self.conv2_2 = tf.keras.layers.Conv2D(32, (3, 3), padding='same', activation='relu')\n",
    "        self.pool2 = tf.keras.layers.MaxPool2D((2, 2))\n",
    "\n",
    "        self.conv3_1 = tf.keras.layers.Conv2D(64, (3, 3), padding='same', activation='relu')\n",
    "        self.conv3_2 = tf.keras.layers.Conv2D(64, (3, 3), padding='same', activation='relu')\n",
    "\n",
    "        self.flatten = tf.keras.layers.Flatten()\n",
    "        self.dense1 = tf.keras.layers.Dense(1024, activation='relu',\n",
    "                                           kernel_regularizer=tf.keras.regularizers.l2(0.01))\n",
    "        self.dense2 = tf.keras.layers.Dense(10, activation='softmax',\n",
    "                                           kernel_regularizer=tf.keras.regularizers.l2(0.01))\n",
    "\n",
    "    def call(self, x, training=False, mask=None):\n",
    "        x = self.conv1_1(x)\n",
    "        x = self.conv1_2(x)\n",
    "        x = self.pool1(x)\n",
    "\n",
    "        x = self.conv2_1(x)\n",
    "        x = self.conv2_2(x)\n",
    "        x = self.pool2(x)\n",
    "\n",
    "        x = self.conv3_1(x)\n",
    "        x = self.conv3_2(x)\n",
    "\n",
    "        x = self.flatten(x)\n",
    "        x = self.dense1(x)\n",
    "        return self.dense2(x)"
   ]
  },
  {
   "cell_type": "markdown",
   "metadata": {},
   "source": [
    "## 데이터셋 준비\n"
   ]
  },
  {
   "cell_type": "code",
   "execution_count": 5,
   "metadata": {},
   "outputs": [
    {
     "name": "stdout",
     "output_type": "stream",
     "text": [
      "Downloading data from https://www.cs.toronto.edu/~kriz/cifar-10-python.tar.gz\n",
      "170500096/170498071 [==============================] - 31s 0us/step\n"
     ]
    }
   ],
   "source": [
    "cifar10 = tf.keras.datasets.cifar10\n",
    "\n",
    "(x_train, y_train), (x_test, y_test) = cifar10.load_data()\n",
    "x_train, x_test = x_train / 255.0, x_test / 255.0\n",
    "\n",
    "x_train = x_train.astype(np.float32)\n",
    "x_test = x_test.astype(np.float32)\n",
    "\n",
    "train_ds = tf.data.Dataset.from_tensor_slices((x_train, y_train)).shuffle(10000).batch(32).prefetch(1024)\n",
    "test_ds = tf.data.Dataset.from_tensor_slices((x_test, y_test)).batch(32).prefetch(1024)"
   ]
  },
  {
   "cell_type": "markdown",
   "metadata": {},
   "source": [
    "## Keras API 모델 학습"
   ]
  },
  {
   "cell_type": "code",
   "execution_count": null,
   "metadata": {
    "scrolled": true
   },
   "outputs": [
    {
     "name": "stdout",
     "output_type": "stream",
     "text": [
      "Train for 1563 steps, validate for 313 steps\n",
      "Epoch 1/100\n",
      "1563/1563 [==============================] - 218s 139ms/step - loss: 1.8829 - accuracy: 0.3650 - val_loss: 1.4717 - val_accuracy: 0.4936\n",
      "Epoch 2/100\n",
      "1563/1563 [==============================] - 206s 132ms/step - loss: 1.3639 - accuracy: 0.5408 - val_loss: 1.2503 - val_accuracy: 0.5865\n",
      "Epoch 3/100\n",
      "1563/1563 [==============================] - 207s 132ms/step - loss: 1.1908 - accuracy: 0.6109 - val_loss: 1.2133 - val_accuracy: 0.6011\n",
      "Epoch 4/100\n",
      "1494/1563 [===========================>..] - ETA: 9s - loss: 1.0931 - accuracy: 0.6460"
     ]
    }
   ],
   "source": [
    "model = MyModel()\n",
    "model.compile(optimizer='adam',\n",
    "              loss='sparse_categorical_crossentropy',\n",
    "              metrics=['accuracy'])\n",
    "model.fit(train_ds, validation_data=test_ds, epochs=EPOCHS)"
   ]
  },
  {
   "cell_type": "code",
   "execution_count": null,
   "metadata": {},
   "outputs": [],
   "source": []
  }
 ],
 "metadata": {
  "kernelspec": {
   "display_name": "Python 3",
   "language": "python",
   "name": "python3"
  },
  "language_info": {
   "codemirror_mode": {
    "name": "ipython",
    "version": 3
   },
   "file_extension": ".py",
   "mimetype": "text/x-python",
   "name": "python",
   "nbconvert_exporter": "python",
   "pygments_lexer": "ipython3",
   "version": "3.7.4"
  }
 },
 "nbformat": 4,
 "nbformat_minor": 2
}
